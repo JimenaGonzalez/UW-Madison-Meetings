{
 "cells": [
  {
   "cell_type": "code",
   "execution_count": 23,
   "metadata": {},
   "outputs": [],
   "source": [
    "import numpy as np\n",
    "import pyccl as ccl\n",
    "import scipy.integrate"
   ]
  },
  {
   "cell_type": "markdown",
   "metadata": {},
   "source": [
    "## Comoving angular-diameter distance \n",
    "\n",
    "$d_C = d_{H}\\int_{0}^{z} \\frac{1}{E(z')} dz'$\n",
    "\n",
    "$E(z)= \\sqrt{\\Omega_{r,0} (1+z)^4 + \\Omega_{m,0} (1+z)^3 + \\Omega_{\\Lambda,0} + (1- \\Omega_{0})(1+z)^2}$\n",
    "\n",
    "Generalization to curvature:\n",
    "\n",
    "$ D_M = \\begin{cases} \n",
    "      \\frac{d_H}{\\sqrt{\\Omega_k}} \\sinh{\\left( \\frac{\\sqrt{\\Omega_k} d_c}{d_H} \\right)} & \\Omega_k > 0 \\\\\n",
    "      d_c & \\Omega_k = 0 \\\\\n",
    "      \\frac{d_H}{\\sqrt{|\\Omega_k|}} \\sin{\\left( \\frac{\\sqrt{|\\Omega_k|} d_c}{d_H} \\right)} & \\Omega_k < 0 \n",
    "   \\end{cases}\n",
    "$\n",
    "\n",
    "+ $d_{H}$  = Hubble Distance\n",
    "+ $\\Omega_{r,0}$ = Omega Radiation\n",
    "+ $\\Omega_{m,0}$ = Omega Matter\n",
    "+ $\\Omega_{\\Lambda,0}$ = Energy density of Dark Energy\n",
    "+ $\\Omega_{0}$  = Omega Zero\n",
    "+ $\\Omega_{k}$  = Curvature of the Universe"
   ]
  },
  {
   "cell_type": "code",
   "execution_count": 24,
   "metadata": {},
   "outputs": [],
   "source": [
    "#Physics Variables\n",
    "G= 7e-11\n",
    "c= 2.998e8\n",
    "H0 = (6.8e-18/3.0857)\n",
    "hubble_distance= c/H0\n",
    "#Cosmology Variables\n",
    "omega_matter=0.27\n",
    "omega_lambda=0.73\n",
    "omega_radiation= 1 - omega_lambda - omega_matter\n",
    "omega_0= omega_matter + omega_radiation + omega_lambda\n",
    "omega_kappa = 1. - omega_0"
   ]
  },
  {
   "cell_type": "code",
   "execution_count": 25,
   "metadata": {},
   "outputs": [],
   "source": [
    "def E_parameter(z):\n",
    "    return (np.sqrt(omega_radiation*(1+z)**4 + omega_matter*(1+z)**3 \n",
    "                    + omega_lambda + (1-omega_0)*(1+z)**2))"
   ]
  },
  {
   "cell_type": "code",
   "execution_count": 26,
   "metadata": {},
   "outputs": [],
   "source": [
    "def comovingDistance(z1, z2):\n",
    "        if np.isclose(omega_kappa, 0.):\n",
    "            return hubble_distance * scipy.integrate.quad(\n",
    "                    lambda z: 1/E_parameter(z),z1, z2)[0]\n",
    "        elif omega_kappa > 0.:\n",
    "            return hubble_distance \\\n",
    "                * np.sinh(np.sqrt(omega_kappa) * scipy.integrate.quad(\n",
    "                lambda z: 1/E_parameter(z), z1, z2)[0]) / np.sqrt(omega_kappa)\n",
    "        else:\n",
    "            return hubble_distance \\\n",
    "                *np.sin(np.sqrt(np.fabs(omega_kappa))*scipy.integrate.quad(\n",
    "                lambda z: 1/E_parameter(z),z1,z2)[0])/np.sqrt(np.fabs(omega_kappa))"
   ]
  },
  {
   "cell_type": "code",
   "execution_count": 27,
   "metadata": {},
   "outputs": [
    {
     "data": {
      "text/plain": [
       "1962.1392803585286"
      ]
     },
     "execution_count": 27,
     "metadata": {},
     "output_type": "execute_result"
    }
   ],
   "source": [
    "#https://github.com/LSSTDESC/CCL/blob/master/examples/Distance%20Calculations%20Example.ipynb\n",
    "comovingDistance(0,0.5)/(3.09e22)"
   ]
  },
  {
   "cell_type": "markdown",
   "metadata": {},
   "source": [
    "## Angular diameter distances:\n",
    "$\n",
    "d_{LS}= \\frac{D_{LS}}{1+z_S}  \\quad\n",
    "d_{L}= \\frac{D_{L}}{1+z_L}  \\quad\n",
    "d_{S}= \\frac{D_{S}}{1+z_s}\n",
    "$"
   ]
  },
  {
   "cell_type": "markdown",
   "metadata": {},
   "source": [
    "## Einstein Radius:\n",
    "\n",
    "$\\theta = \\sqrt{\\frac{4GM}{c^2} \\frac{d_{LS}}{d_L d_s}}$"
   ]
  },
  {
   "cell_type": "markdown",
   "metadata": {},
   "source": [
    "I am going to use the values from the HSC double source place lens system (Eye of Horus) as an [example](https://arxiv.org/pdf/1606.09363.pdf). "
   ]
  },
  {
   "cell_type": "code",
   "execution_count": 28,
   "metadata": {},
   "outputs": [],
   "source": [
    "#System Variables:\n",
    "M = 140.0e41 # Total mass including DM. Estelar mass: 14.0e41\n",
    "Zlens = 0.795\n",
    "Zs1 = 1.302\n",
    "Zs2 = 1.988"
   ]
  },
  {
   "cell_type": "code",
   "execution_count": 29,
   "metadata": {},
   "outputs": [],
   "source": [
    "#Comoving Distances:\n",
    "dlens = comovingDistance(0,Zlens)/(1+Zlens)\n",
    "ds1 = comovingDistance(0,Zs1)/(1+Zs1) \n",
    "ds2 = comovingDistance(0,Zs2)/(1+Zs2)\n",
    "dls1 = comovingDistance(Zlens,Zs1)/(1+Zs1)\n",
    "dls2 = comovingDistance(Zlens,Zs2)/(1+Zs2)"
   ]
  },
  {
   "cell_type": "code",
   "execution_count": 30,
   "metadata": {},
   "outputs": [],
   "source": [
    "def Einstein_Radius(DL, DS, DLS):\n",
    "    return np.sqrt((4*G*M*DLS)/(c**2 * DL * DS))"
   ]
  },
  {
   "cell_type": "code",
   "execution_count": 31,
   "metadata": {},
   "outputs": [
    {
     "name": "stdout",
     "output_type": "stream",
     "text": [
      "Inner Einstein radius: 3.380397135693867''\n",
      "Outer Einstein radius: 4.17632754416823''\n"
     ]
    }
   ],
   "source": [
    "print(\"Inner Einstein radius: \" + str(206265*Einstein_Radius(dlens, ds1, dls1)) + \"''\"\n",
    "      \"\\n\"+\"Outer Einstein radius: \"+str(206265*Einstein_Radius(dlens, ds2, dls2)) + \"''\" )"
   ]
  },
  {
   "cell_type": "markdown",
   "metadata": {},
   "source": [
    "The value of the outer radius found in the paper was 3''.3. The difference between the calculated value here and the measured value could be due to the fact that we used the point approximation for the lens but in this case the lens is an extented object."
   ]
  },
  {
   "cell_type": "code",
   "execution_count": null,
   "metadata": {},
   "outputs": [],
   "source": []
  }
 ],
 "metadata": {
  "kernelspec": {
   "display_name": "desc-python",
   "language": "python",
   "name": "desc-python"
  },
  "language_info": {
   "codemirror_mode": {
    "name": "ipython",
    "version": 3
   },
   "file_extension": ".py",
   "mimetype": "text/x-python",
   "name": "python",
   "nbconvert_exporter": "python",
   "pygments_lexer": "ipython3",
   "version": "3.6.6"
  }
 },
 "nbformat": 4,
 "nbformat_minor": 2
}
